{
 "cells": [
  {
   "cell_type": "code",
   "execution_count": 39,
   "metadata": {
    "collapsed": true
   },
   "outputs": [],
   "source": [
    "#Import packages\n",
    "import collections\n",
    "import itertools\n",
    "import os\n",
    "import shutil\n",
    "import glob"
   ]
  },
  {
   "cell_type": "code",
   "execution_count": 40,
   "metadata": {},
   "outputs": [],
   "source": [
    "################################################Train#################################################################\n",
    "###Functions\n",
    "#Delete irrelevent characteristics\n",
    "def clean(word):\n",
    "    out = []\n",
    "    for c in word:\n",
    "        c = c.lower()\n",
    "        if c in set('abcdefghijklmnopqrstuvwxyz '):\n",
    "            out.append(c)\n",
    "    return ''.join(out)\n",
    "\n",
    "#Convert character to int\n",
    "def char_to_index(x):\n",
    "    return ord(x)-ord('a')\n",
    "\n",
    "#Combine all train_set files\n",
    "read_files = glob.glob(os.path.join(os.getcwd(), 'train_set', \"*.txt\"))\n",
    "with open(\"train_combine.txt\", \"wb\") as outfile:\n",
    "    for f in read_files:\n",
    "        with open(f, \"rb\") as infile:\n",
    "            outfile.write(infile.read())\n",
    "\n",
    "#Creat empty list and dict\n",
    "group_by_len = collections.defaultdict(list)\n",
    "digrams_by_len = collections.defaultdict(dict)\n",
    "\n",
    "#Write out test_cleaned file\n",
    "with open('train_combine.txt',errors='ignore') as file:\n",
    "    with open('train_clean.txt',\"w\") as file_clean:\n",
    "        for ws in file:\n",
    "            words=clean(ws)\n",
    "            file_clean.write(words)\n",
    "        file_clean.close()\n",
    "        \n",
    "#Create group_by_len\n",
    "with open('train_clean.txt',errors='ignore') as file:\n",
    "    for line in file:\n",
    "        for w in line.split():\n",
    "            group_by_len[len(w)].append(w)\n",
    "            \n",
    "#Create dictionary\n",
    "for length in group_by_len: #1\n",
    "        for i, j in itertools.combinations(range(length), 2):#2\n",
    "                key = (i, j)\n",
    "                matrix = [[0] * 26 for _ in range(26)]\n",
    "                for word in group_by_len[length]:\n",
    "                    matrix[char_to_index(word[i])][char_to_index(word[j])] = 1\n",
    "                    digrams_by_len[length][key] = matrix"
   ]
  },
  {
   "cell_type": "code",
   "execution_count": 42,
   "metadata": {
    "collapsed": true
   },
   "outputs": [],
   "source": [
    "###############################################Test#####################################################################\n",
    "#Combine and clean all test_set files\n",
    "read_files = glob.glob(os.path.join(os.getcwd(), 'test_set', \"*.txt\"))\n",
    "with open(\"test_combine.txt\", \"wb\") as outfile:\n",
    "    for f in read_files:\n",
    "        with open(f, \"rb\") as infile:\n",
    "            outfile.write(infile.read())\n",
    "            \n",
    "#Write out test_cleaned file\n",
    "with open('test_combine.txt',errors='ignore') as file:\n",
    "    with open('test_clean.txt',\"w\") as file_clean:\n",
    "        for ws in file:\n",
    "            words=clean(ws)\n",
    "            file_clean.write(words)\n",
    "        file_clean.close()"
   ]
  },
  {
   "cell_type": "code",
   "execution_count": 43,
   "metadata": {
    "collapsed": true
   },
   "outputs": [
    {
     "name": "stdout",
     "output_type": "stream",
     "text": [
      "[1, 0, 0, 1, 1, 0, 1, 0, 1, 1, 0, 1, 1, 0, 0, 0, 1, 0, 1, 0, 1, 1, 1, 0, 0, 1, 1, 0, 1, 0, 1, 0, 1, 1, 0, 1, 0, 1, 1, 0, 0, 1, 1, 0, 0, 1, 1, 1, 0, 1, 1, 0, 1, 1, 0, 0, 1, 1, 0, 1, 0, 1, 1, 0, 0, 1, 1, 1, 1, 0, 1, 1, 1, 1, 1, 1, 0, 1, 0, 1, 1, 1, 0, 0, 1, 1, 1, 0, 0, 0, 1, 1, 0, 1, 1, 0, 1, 0, 1, 1, 1, 0, 0, 1, 0, 1, 1, 1, 1, 1, 0, 0, 1, 0, 0, 0, 1, 1, 1, 1, 1, 1, 0, 1, 1, 1, 0, 1, 1, 1, 0, 0, 1, 1, 0, 1, 0, 1, 0, 0, 0, 1, 0, 1, 1, 0, 1, 1, 1, 0, 0, 1, 1, 1, 1, 1, 1, 1, 1, 0, 0, 1, 0, 0, 0, 0, 1, 1, 1, 1, 0, 0, 0, 1, 0, 1, 0, 0, 1, 1, 1, 1, 1, 0, 1, 1, 1, 0, 1, 1, 1, 0, 1, 1, 1, 0, 0, 1, 1, 0, 1, 0, 0, 1, 0, 1, 1, 1, 0, 1, 0, 1, 0, 1, 1, 0, 1, 1, 1, 1, 1, 1, 0, 0, 0, 0, 1, 1, 1, 1, 1, 0, 1, 1, 1, 1, 1, 1, 0, 0, 1, 1, 1, 1, 1, 0, 0, 1, 0, 0, 0, 0, 1, 1, 1, 1, 1, 0, 1, 0, 1, 1, 1, 1, 0, 1, 1, 0, 1, 0, 1, 1, 1, 0, 0, 1, 1, 1, 1, 0, 1, 0, 0, 1, 0, 1, 1, 0, 1, 0, 1, 0, 1, 0, 1, 0, 1, 1, 1, 1, 0, 1, 1, 1, 0, 1, 1, 1, 0, 0, 0, 0, 0, 1, 1, 1, 1, 1, 0]\n"
     ]
    }
   ],
   "source": [
    "#Creat checking list for test set\n",
    "list2=[]\n",
    "with open('test_clean.txt',errors='ignore') as file:\n",
    "    for line in file:\n",
    "        #print(line)\n",
    "        for words in line.split():\n",
    "            #print(len(words))\n",
    "            list1=[]\n",
    "            for i, j in itertools.combinations(range(len(words)),2):\n",
    "                key = (i, j) \n",
    "                #print(key)\n",
    "                matrix=digrams_by_len[len(words)][key]\n",
    "                if matrix[char_to_index(word[i])][char_to_index(word[j])] == 1:\n",
    "                    list1.append(1)\n",
    "                else:\n",
    "                    list1.append(0)\n",
    "            #print(list1)\n",
    "            if any(item == 0 for item in list1):\n",
    "                list2.append(0)\n",
    "            else:\n",
    "                list2.append(1)\n",
    "print(list2)"
   ]
  }
 ],
 "metadata": {
  "kernelspec": {
   "display_name": "Python 3",
   "language": "python",
   "name": "python3"
  },
  "language_info": {
   "codemirror_mode": {
    "name": "ipython",
    "version": 3
   },
   "file_extension": ".py",
   "mimetype": "text/x-python",
   "name": "python",
   "nbconvert_exporter": "python",
   "pygments_lexer": "ipython3",
   "version": "3.6.3"
  }
 },
 "nbformat": 4,
 "nbformat_minor": 2
}
